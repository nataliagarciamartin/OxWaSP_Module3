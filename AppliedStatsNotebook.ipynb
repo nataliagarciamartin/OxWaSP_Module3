{
 "cells": [
  {
   "cell_type": "code",
   "execution_count": null,
   "metadata": {},
   "outputs": [],
   "source": [
    "# Load gene expression data\n",
    "\n",
    "load(\"Data/gset.RData\")\n",
    "\n",
    "# Read in data using only 146 significant genes\n",
    "\n",
    "pamoutput <- read.csv(\"Data/desousaemelo_146genes_pam.csv\", header = TRUE)"
   ]
  },
  {
   "cell_type": "markdown",
   "metadata": {},
   "source": [
    "Testing."
   ]
  }
 ],
 "metadata": {
  "kernelspec": {
   "display_name": "R",
   "language": "R",
   "name": "ir"
  },
  "language_info": {
   "codemirror_mode": "r",
   "file_extension": ".r",
   "mimetype": "text/x-r-source",
   "name": "R",
   "pygments_lexer": "r",
   "version": "3.5.1"
  }
 },
 "nbformat": 4,
 "nbformat_minor": 2
}
