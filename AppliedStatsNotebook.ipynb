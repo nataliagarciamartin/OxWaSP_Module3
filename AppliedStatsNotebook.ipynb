{
 "cells": [
  {
   "cell_type": "code",
   "execution_count": 2,
   "metadata": {},
   "outputs": [],
   "source": [
    "# Load gene expression data\n",
    "\n",
    "load(\"Data/gset.RData\")"
   ]
  },
  {
   "cell_type": "markdown",
   "metadata": {},
   "source": [
    "We begin by loading in the dataset."
   ]
  },
  {
   "cell_type": "code",
   "execution_count": 5,
   "metadata": {
    "scrolled": true
   },
   "outputs": [
    {
     "data": {
      "text/html": [
       "<ol class=list-inline>\n",
       "\t<li>54675</li>\n",
       "\t<li>90</li>\n",
       "</ol>\n"
      ],
      "text/latex": [
       "\\begin{enumerate*}\n",
       "\\item 54675\n",
       "\\item 90\n",
       "\\end{enumerate*}\n"
      ],
      "text/markdown": [
       "1. 54675\n",
       "2. 90\n",
       "\n",
       "\n"
      ],
      "text/plain": [
       "[1] 54675    90"
      ]
     },
     "metadata": {},
     "output_type": "display_data"
    }
   ],
   "source": [
    "dim(gset)"
   ]
  },
  {
   "cell_type": "markdown",
   "metadata": {},
   "source": [
    "We have data consisting of 54,765 gene expressions, for a total of 90 patients."
   ]
  },
  {
   "cell_type": "code",
   "execution_count": 10,
   "metadata": {},
   "outputs": [
    {
     "data": {
      "text/html": [
       "<table>\n",
       "<thead><tr><th></th><th scope=col>GSM820048</th><th scope=col>GSM820049</th><th scope=col>GSM820050</th><th scope=col>GSM820051</th><th scope=col>GSM820052</th><th scope=col>GSM820053</th><th scope=col>GSM820054</th><th scope=col>GSM820055</th><th scope=col>GSM820056</th><th scope=col>GSM820057</th><th scope=col>⋯</th><th scope=col>GSM820128</th><th scope=col>GSM820129</th><th scope=col>GSM820130</th><th scope=col>GSM820131</th><th scope=col>GSM820132</th><th scope=col>GSM820133</th><th scope=col>GSM820134</th><th scope=col>GSM820135</th><th scope=col>GSM820136</th><th scope=col>GSM820137</th></tr></thead>\n",
       "<tbody>\n",
       "\t<tr><th scope=row>1007_s_at</th><td>845.9 </td><td>723.5 </td><td>871.5 </td><td>818.3 </td><td>639.7 </td><td>619.8 </td><td>568.5 </td><td>583.1 </td><td>874.2 </td><td>562.8 </td><td>⋯     </td><td>1173.6</td><td>508.5 </td><td>837.1 </td><td>781.2 </td><td>750.1 </td><td>796.6 </td><td>852.3 </td><td>586.5 </td><td>733.5 </td><td>755.6 </td></tr>\n",
       "\t<tr><th scope=row>1053_at</th><td>213.1 </td><td>190.2 </td><td>154.7 </td><td>128.7 </td><td>186.6 </td><td>208.3 </td><td>155.7 </td><td>175.8 </td><td>189.3 </td><td>144.7 </td><td>⋯     </td><td> 137.3</td><td>154.5 </td><td>189.5 </td><td>141.4 </td><td>164.2 </td><td>195.8 </td><td>121.4 </td><td>134.1 </td><td>129.4 </td><td>187.6 </td></tr>\n",
       "\t<tr><th scope=row>117_at</th><td> 34.1 </td><td> 24.9 </td><td> 33.2 </td><td> 74.9 </td><td> 30.0 </td><td> 34.1 </td><td> 40.4 </td><td>105.4 </td><td> 44.0 </td><td> 72.1 </td><td>⋯     </td><td> 153.4</td><td> 40.3 </td><td> 29.5 </td><td> 27.7 </td><td> 40.1 </td><td> 81.5 </td><td> 44.2 </td><td> 84.2 </td><td> 66.0 </td><td> 24.8 </td></tr>\n",
       "\t<tr><th scope=row>121_at</th><td>133.3 </td><td>150.4 </td><td> 88.8 </td><td>110.1 </td><td> 87.8 </td><td> 95.6 </td><td> 80.1 </td><td> 95.8 </td><td>113.9 </td><td>109.0 </td><td>⋯     </td><td>  99.7</td><td> 91.7 </td><td>146.5 </td><td>145.0 </td><td>106.1 </td><td>116.7 </td><td>127.8 </td><td>141.4 </td><td>126.4 </td><td> 95.3 </td></tr>\n",
       "\t<tr><th scope=row>1255_g_at</th><td>  4.1 </td><td>  6.4 </td><td>  5.7 </td><td>  5.3 </td><td>  1.6 </td><td>  1.4 </td><td>  6.5 </td><td> 21.2 </td><td> 19.1 </td><td> 15.4 </td><td>⋯     </td><td>  20.2</td><td>  1.2 </td><td>  4.9 </td><td>  8.9 </td><td> 12.3 </td><td>  6.8 </td><td>  7.4 </td><td>  4.7 </td><td> 10.2 </td><td>  7.4 </td></tr>\n",
       "\t<tr><th scope=row>1294_at</th><td> 86.3 </td><td> 85.1 </td><td>162.7 </td><td> 86.4 </td><td>105.0 </td><td>169.0 </td><td>164.3 </td><td>189.7 </td><td>145.0 </td><td>134.4 </td><td>⋯     </td><td>  36.7</td><td>139.8 </td><td>137.3 </td><td>165.3 </td><td>100.3 </td><td>141.9 </td><td>111.0 </td><td>213.4 </td><td>196.8 </td><td> 99.2 </td></tr>\n",
       "</tbody>\n",
       "</table>\n"
      ],
      "text/latex": [
       "\\begin{tabular}{r|llllllllllllllllllllllllllllllllllllllllllllllllllllllllllllllllllllllllllllllllllllllllll}\n",
       "  & GSM820048 & GSM820049 & GSM820050 & GSM820051 & GSM820052 & GSM820053 & GSM820054 & GSM820055 & GSM820056 & GSM820057 & ⋯ & GSM820128 & GSM820129 & GSM820130 & GSM820131 & GSM820132 & GSM820133 & GSM820134 & GSM820135 & GSM820136 & GSM820137\\\\\n",
       "\\hline\n",
       "\t1007\\_s\\_at & 845.9  & 723.5  & 871.5  & 818.3  & 639.7  & 619.8  & 568.5  & 583.1  & 874.2  & 562.8  & ⋯      & 1173.6 & 508.5  & 837.1  & 781.2  & 750.1  & 796.6  & 852.3  & 586.5  & 733.5  & 755.6 \\\\\n",
       "\t1053\\_at & 213.1  & 190.2  & 154.7  & 128.7  & 186.6  & 208.3  & 155.7  & 175.8  & 189.3  & 144.7  & ⋯      &  137.3 & 154.5  & 189.5  & 141.4  & 164.2  & 195.8  & 121.4  & 134.1  & 129.4  & 187.6 \\\\\n",
       "\t117\\_at &  34.1  &  24.9  &  33.2  &  74.9  &  30.0  &  34.1  &  40.4  & 105.4  &  44.0  &  72.1  & ⋯      &  153.4 &  40.3  &  29.5  &  27.7  &  40.1  &  81.5  &  44.2  &  84.2  &  66.0  &  24.8 \\\\\n",
       "\t121\\_at & 133.3  & 150.4  &  88.8  & 110.1  &  87.8  &  95.6  &  80.1  &  95.8  & 113.9  & 109.0  & ⋯      &   99.7 &  91.7  & 146.5  & 145.0  & 106.1  & 116.7  & 127.8  & 141.4  & 126.4  &  95.3 \\\\\n",
       "\t1255\\_g\\_at &   4.1  &   6.4  &   5.7  &   5.3  &   1.6  &   1.4  &   6.5  &  21.2  &  19.1  &  15.4  & ⋯      &   20.2 &   1.2  &   4.9  &   8.9  &  12.3  &   6.8  &   7.4  &   4.7  &  10.2  &   7.4 \\\\\n",
       "\t1294\\_at &  86.3  &  85.1  & 162.7  &  86.4  & 105.0  & 169.0  & 164.3  & 189.7  & 145.0  & 134.4  & ⋯      &   36.7 & 139.8  & 137.3  & 165.3  & 100.3  & 141.9  & 111.0  & 213.4  & 196.8  &  99.2 \\\\\n",
       "\\end{tabular}\n"
      ],
      "text/markdown": [
       "\n",
       "| <!--/--> | GSM820048 | GSM820049 | GSM820050 | GSM820051 | GSM820052 | GSM820053 | GSM820054 | GSM820055 | GSM820056 | GSM820057 | ⋯ | GSM820128 | GSM820129 | GSM820130 | GSM820131 | GSM820132 | GSM820133 | GSM820134 | GSM820135 | GSM820136 | GSM820137 | \n",
       "|---|---|---|---|---|---|\n",
       "| 1007_s_at | 845.9  | 723.5  | 871.5  | 818.3  | 639.7  | 619.8  | 568.5  | 583.1  | 874.2  | 562.8  | ⋯      | 1173.6 | 508.5  | 837.1  | 781.2  | 750.1  | 796.6  | 852.3  | 586.5  | 733.5  | 755.6  | \n",
       "| 1053_at | 213.1  | 190.2  | 154.7  | 128.7  | 186.6  | 208.3  | 155.7  | 175.8  | 189.3  | 144.7  | ⋯      |  137.3 | 154.5  | 189.5  | 141.4  | 164.2  | 195.8  | 121.4  | 134.1  | 129.4  | 187.6  | \n",
       "| 117_at |  34.1  |  24.9  |  33.2  |  74.9  |  30.0  |  34.1  |  40.4  | 105.4  |  44.0  |  72.1  | ⋯      |  153.4 |  40.3  |  29.5  |  27.7  |  40.1  |  81.5  |  44.2  |  84.2  |  66.0  |  24.8  | \n",
       "| 121_at | 133.3  | 150.4  |  88.8  | 110.1  |  87.8  |  95.6  |  80.1  |  95.8  | 113.9  | 109.0  | ⋯      |   99.7 |  91.7  | 146.5  | 145.0  | 106.1  | 116.7  | 127.8  | 141.4  | 126.4  |  95.3  | \n",
       "| 1255_g_at |   4.1  |   6.4  |   5.7  |   5.3  |   1.6  |   1.4  |   6.5  |  21.2  |  19.1  |  15.4  | ⋯      |   20.2 |   1.2  |   4.9  |   8.9  |  12.3  |   6.8  |   7.4  |   4.7  |  10.2  |   7.4  | \n",
       "| 1294_at |  86.3  |  85.1  | 162.7  |  86.4  | 105.0  | 169.0  | 164.3  | 189.7  | 145.0  | 134.4  | ⋯      |   36.7 | 139.8  | 137.3  | 165.3  | 100.3  | 141.9  | 111.0  | 213.4  | 196.8  |  99.2  | \n",
       "\n",
       "\n"
      ],
      "text/plain": [
       "          GSM820048 GSM820049 GSM820050 GSM820051 GSM820052 GSM820053 GSM820054\n",
       "1007_s_at 845.9     723.5     871.5     818.3     639.7     619.8     568.5    \n",
       "1053_at   213.1     190.2     154.7     128.7     186.6     208.3     155.7    \n",
       "117_at     34.1      24.9      33.2      74.9      30.0      34.1      40.4    \n",
       "121_at    133.3     150.4      88.8     110.1      87.8      95.6      80.1    \n",
       "1255_g_at   4.1       6.4       5.7       5.3       1.6       1.4       6.5    \n",
       "1294_at    86.3      85.1     162.7      86.4     105.0     169.0     164.3    \n",
       "          GSM820055 GSM820056 GSM820057 ⋯ GSM820128 GSM820129 GSM820130\n",
       "1007_s_at 583.1     874.2     562.8     ⋯ 1173.6    508.5     837.1    \n",
       "1053_at   175.8     189.3     144.7     ⋯  137.3    154.5     189.5    \n",
       "117_at    105.4      44.0      72.1     ⋯  153.4     40.3      29.5    \n",
       "121_at     95.8     113.9     109.0     ⋯   99.7     91.7     146.5    \n",
       "1255_g_at  21.2      19.1      15.4     ⋯   20.2      1.2       4.9    \n",
       "1294_at   189.7     145.0     134.4     ⋯   36.7    139.8     137.3    \n",
       "          GSM820131 GSM820132 GSM820133 GSM820134 GSM820135 GSM820136 GSM820137\n",
       "1007_s_at 781.2     750.1     796.6     852.3     586.5     733.5     755.6    \n",
       "1053_at   141.4     164.2     195.8     121.4     134.1     129.4     187.6    \n",
       "117_at     27.7      40.1      81.5      44.2      84.2      66.0      24.8    \n",
       "121_at    145.0     106.1     116.7     127.8     141.4     126.4      95.3    \n",
       "1255_g_at   8.9      12.3       6.8       7.4       4.7      10.2       7.4    \n",
       "1294_at   165.3     100.3     141.9     111.0     213.4     196.8      99.2    "
      ]
     },
     "metadata": {},
     "output_type": "display_data"
    }
   ],
   "source": [
    "head(gset)"
   ]
  },
  {
   "cell_type": "markdown",
   "metadata": {},
   "source": [
    "Each row corresponds to a particular gene, while each column corresponds to a different patient. Is there any missing data?"
   ]
  },
  {
   "cell_type": "code",
   "execution_count": 16,
   "metadata": {},
   "outputs": [
    {
     "data": {
      "text/html": [
       "0"
      ],
      "text/latex": [
       "0"
      ],
      "text/markdown": [
       "0"
      ],
      "text/plain": [
       "[1] 0"
      ]
     },
     "metadata": {},
     "output_type": "display_data"
    }
   ],
   "source": [
    "sum(is.na(gset))"
   ]
  },
  {
   "cell_type": "markdown",
   "metadata": {},
   "source": [
    "No data is missing. Are any genes redundant?"
   ]
  },
  {
   "cell_type": "code",
   "execution_count": 15,
   "metadata": {},
   "outputs": [
    {
     "data": {
      "text/html": [
       "0"
      ],
      "text/latex": [
       "0"
      ],
      "text/markdown": [
       "0"
      ],
      "text/plain": [
       "[1] 0"
      ]
     },
     "metadata": {},
     "output_type": "display_data"
    }
   ],
   "source": [
    "rsum_gset <- rowSums(gset)\n",
    "sum(rsum_gset == 0)"
   ]
  },
  {
   "cell_type": "markdown",
   "metadata": {},
   "source": [
    "We have at least one measurement of each gene expression, so no genes need to be omitted."
   ]
  },
  {
   "cell_type": "code",
   "execution_count": 6,
   "metadata": {},
   "outputs": [
    {
     "data": {
      "text/html": [
       "<table>\n",
       "<thead><tr><th scope=col>identifier</th><th scope=col>gene_name</th><th scope=col>centroid1</th><th scope=col>centroid2</th><th scope=col>centroid3</th></tr></thead>\n",
       "<tbody>\n",
       "\t<tr><td>206108_s_at</td><td>SRSF6      </td><td>-0.00170417</td><td> 0.5558523 </td><td>0.000000   </td></tr>\n",
       "\t<tr><td>35201_at   </td><td>HNRNPL     </td><td> 0.00000000</td><td> 0.4862207 </td><td>0.000000   </td></tr>\n",
       "\t<tr><td>223642_at  </td><td>ZIC2       </td><td>-0.07567733</td><td> 0.3954583 </td><td>0.000000   </td></tr>\n",
       "\t<tr><td>202436_s_at</td><td>CYP1B1     </td><td>-0.14119512</td><td> 0.0000000 </td><td>0.388206   </td></tr>\n",
       "\t<tr><td>201123_s_at</td><td>EIF5A      </td><td> 0.00000000</td><td> 0.3875220 </td><td>0.000000   </td></tr>\n",
       "\t<tr><td>228834_at  </td><td>TOB1       </td><td> 0.03352547</td><td>-0.3804781 </td><td>0.000000   </td></tr>\n",
       "</tbody>\n",
       "</table>\n"
      ],
      "text/latex": [
       "\\begin{tabular}{r|lllll}\n",
       " identifier & gene\\_name & centroid1 & centroid2 & centroid3\\\\\n",
       "\\hline\n",
       "\t 206108\\_s\\_at & SRSF6           & -0.00170417     &  0.5558523      & 0.000000       \\\\\n",
       "\t 35201\\_at    & HNRNPL        &  0.00000000   &  0.4862207    & 0.000000     \\\\\n",
       "\t 223642\\_at   & ZIC2          & -0.07567733   &  0.3954583    & 0.000000     \\\\\n",
       "\t 202436\\_s\\_at & CYP1B1          & -0.14119512     &  0.0000000      & 0.388206       \\\\\n",
       "\t 201123\\_s\\_at & EIF5A           &  0.00000000     &  0.3875220      & 0.000000       \\\\\n",
       "\t 228834\\_at   & TOB1          &  0.03352547   & -0.3804781    & 0.000000     \\\\\n",
       "\\end{tabular}\n"
      ],
      "text/markdown": [
       "\n",
       "identifier | gene_name | centroid1 | centroid2 | centroid3 | \n",
       "|---|---|---|---|---|---|\n",
       "| 206108_s_at | SRSF6       | -0.00170417 |  0.5558523  | 0.000000    | \n",
       "| 35201_at    | HNRNPL      |  0.00000000 |  0.4862207  | 0.000000    | \n",
       "| 223642_at   | ZIC2        | -0.07567733 |  0.3954583  | 0.000000    | \n",
       "| 202436_s_at | CYP1B1      | -0.14119512 |  0.0000000  | 0.388206    | \n",
       "| 201123_s_at | EIF5A       |  0.00000000 |  0.3875220  | 0.000000    | \n",
       "| 228834_at   | TOB1        |  0.03352547 | -0.3804781  | 0.000000    | \n",
       "\n",
       "\n"
      ],
      "text/plain": [
       "  identifier  gene_name centroid1   centroid2  centroid3\n",
       "1 206108_s_at SRSF6     -0.00170417  0.5558523 0.000000 \n",
       "2 35201_at    HNRNPL     0.00000000  0.4862207 0.000000 \n",
       "3 223642_at   ZIC2      -0.07567733  0.3954583 0.000000 \n",
       "4 202436_s_at CYP1B1    -0.14119512  0.0000000 0.388206 \n",
       "5 201123_s_at EIF5A      0.00000000  0.3875220 0.000000 \n",
       "6 228834_at   TOB1       0.03352547 -0.3804781 0.000000 "
      ]
     },
     "metadata": {},
     "output_type": "display_data"
    }
   ],
   "source": [
    "# Read in data using only 146 significant genes\n",
    "\n",
    "pamoutput <- read.csv(\"Data/desousaemelo_146genes_pam.csv\", header = TRUE)\n",
    "\n",
    "head(pamoutput)"
   ]
  },
  {
   "cell_type": "code",
   "execution_count": null,
   "metadata": {},
   "outputs": [],
   "source": []
  }
 ],
 "metadata": {
  "kernelspec": {
   "display_name": "R",
   "language": "R",
   "name": "ir"
  },
  "language_info": {
   "codemirror_mode": "r",
   "file_extension": ".r",
   "mimetype": "text/x-r-source",
   "name": "R",
   "pygments_lexer": "r",
   "version": "3.5.1"
  }
 },
 "nbformat": 4,
 "nbformat_minor": 2
}
